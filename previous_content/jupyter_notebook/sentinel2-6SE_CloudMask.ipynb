{
 "cells": [
  {
   "cell_type": "code",
   "execution_count": 1,
   "metadata": {
    "collapsed": true
   },
   "outputs": [],
   "source": [
    "import ee\n",
    "ee.Initialize()"
   ]
  },
  {
   "cell_type": "code",
   "execution_count": 2,
   "metadata": {
    "collapsed": false
   },
   "outputs": [],
   "source": [
    "import os\n",
    "import sys, math\n",
    "sys.path.append(os.path.join(os.path.dirname(os.getcwd()),'bin'))\n",
    "from sixs_emulator_ee_sentinel2_batch import SixS_emulator\n",
    "from atmcorr_input import Atmcorr_input\n",
    "from atmospheric_correction import atmospheric_correction\n",
    "from radiance import radiance_from_TOA\n",
    "from interpolated_LUTs import Interpolated_LUTs"
   ]
  },
  {
   "cell_type": "code",
   "execution_count": 3,
   "metadata": {
    "collapsed": true
   },
   "outputs": [],
   "source": [
    "# a place and a mission\n",
    "geom = ee.Geometry.Point(103.16, 21.32)\n",
    "mission = 'COPERNICUS/S2'  "
   ]
  },
  {
   "cell_type": "code",
   "execution_count": 4,
   "metadata": {
    "collapsed": true
   },
   "outputs": [],
   "source": [
    "# 6S emulator\n",
    "se = SixS_emulator(mission)"
   ]
  },
  {
   "cell_type": "code",
   "execution_count": 5,
   "metadata": {
    "collapsed": true
   },
   "outputs": [],
   "source": [
    "# image collection\n",
    "ic = ee.ImageCollection(mission)\\\n",
    "    .filterBounds(geom)\\\n",
    "    .filterDate('2017-02-01','2017-04-01')\\\n",
    "    .sort('CLOUD_COVERAGE_ASSESSMENT')\n",
    "    "
   ]
  },
  {
   "cell_type": "code",
   "execution_count": 6,
   "metadata": {
    "collapsed": true
   },
   "outputs": [],
   "source": [
    "# iLUTs instance\n",
    "iLUTs = Interpolated_LUTs('COPERNICUS/S2') # i.e. Sentinel2 "
   ]
  },
  {
   "cell_type": "code",
   "execution_count": 7,
   "metadata": {
    "collapsed": false
   },
   "outputs": [
    {
     "name": "stdout",
     "output_type": "stream",
     "text": [
      "Downloading look up table (LUT) zip file..\n",
      "Extracting zip file..\n",
      "Done: LUT files available locally\n"
     ]
    }
   ],
   "source": [
    "# if this is first time you might have to download the look up tables\n",
    "iLUTs.download_LUTs()"
   ]
  },
  {
   "cell_type": "code",
   "execution_count": 8,
   "metadata": {
    "collapsed": false
   },
   "outputs": [
    {
     "name": "stdout",
     "output_type": "stream",
     "text": [
      "running n-dimensional interpolation may take a few minutes...\n",
      "iLUT file already exists (skipping interpolation): S2A_MSI_01.lut\n",
      "iLUT file already exists (skipping interpolation): S2A_MSI_02.lut\n",
      "iLUT file already exists (skipping interpolation): S2A_MSI_03.lut\n",
      "iLUT file already exists (skipping interpolation): S2A_MSI_04.lut\n",
      "iLUT file already exists (skipping interpolation): S2A_MSI_05.lut\n",
      "iLUT file already exists (skipping interpolation): S2A_MSI_06.lut\n",
      "iLUT file already exists (skipping interpolation): S2A_MSI_07.lut\n",
      "iLUT file already exists (skipping interpolation): S2A_MSI_08.lut\n",
      "iLUT file already exists (skipping interpolation): S2A_MSI_09.lut\n",
      "iLUT file already exists (skipping interpolation): S2A_MSI_10.lut\n",
      "iLUT file already exists (skipping interpolation): S2A_MSI_11.lut\n",
      "iLUT file already exists (skipping interpolation): S2A_MSI_12.lut\n",
      "iLUT file already exists (skipping interpolation): S2A_MSI_13.lut\n"
     ]
    }
   ],
   "source": [
    "# and run the interpolation\n",
    "iLUTs.interpolate_LUTs()"
   ]
  },
  {
   "cell_type": "markdown",
   "metadata": {},
   "source": [
    "If you are running this notebook in a docker container then you can save these interpolated look-up tables (and your Earth Engine authentication) for later using a [docker commit](https://github.com/samsammurphy/gee-atmcorr-S2-6SE/wiki/docker-commits). This will save them to memory so that you only have to do the set-up once."
   ]
  },
  {
   "cell_type": "code",
   "execution_count": 9,
   "metadata": {
    "collapsed": true
   },
   "outputs": [],
   "source": [
    "# otherwise, you can just load iLUTs from file\n",
    "se.iLUTs = iLUTs.get()"
   ]
  },
  {
   "cell_type": "code",
   "execution_count": 10,
   "metadata": {
    "collapsed": true
   },
   "outputs": [],
   "source": [
    "# extract atmcorr inputs as feature collection\n",
    "Atmcorr_input.geom = geom  # specify target location (would use image centroid otherwise)\n",
    "atmcorr_inputs = ic.map(Atmcorr_input.extractor).getInfo()\n",
    "features = atmcorr_inputs['features']"
   ]
  },
  {
   "cell_type": "code",
   "execution_count": 11,
   "metadata": {
    "collapsed": true
   },
   "outputs": [],
   "source": [
    "# atmospherically correct image collection\n",
    "\n",
    "imgCollection = []\n",
    "\n",
    "for feature in features:\n",
    "\n",
    "    # at-sensor radiance \n",
    "    toa = ee.Image(mission+'/'+feature['properties']['imgID'])\n",
    "    rad = radiance_from_TOA(toa, feature)\n",
    "\n",
    "    # 6S emulator\n",
    "    cc = se.run(feature['properties']['atmcorr_inputs'])\n",
    "\n",
    "    # atmospheric correction\n",
    "    SR = atmospheric_correction(rad, cc)\n",
    "    imgCollection.append(SR)"
   ]
  },
  {
   "cell_type": "code",
   "execution_count": 12,
   "metadata": {
    "collapsed": true
   },
   "outputs": [],
   "source": [
    "# Earth Engine image collection\n",
    "imgCollection = ee.ImageCollection(imgCollection)"
   ]
  },
  {
   "cell_type": "code",
   "execution_count": 13,
   "metadata": {
    "collapsed": true
   },
   "outputs": [],
   "source": [
    "# test\n",
    "SR = ee.Image(imgCollection.first())\n",
    "#print(SR.reduceRegion(ee.Reducer.mean(),geom).getInfo())"
   ]
  },
  {
   "cell_type": "code",
   "execution_count": 14,
   "metadata": {
    "collapsed": true
   },
   "outputs": [],
   "source": [
    "# this is a nice idea!\n",
    "def projectShadows(cloudMask, sunAzimuth, offset):\n",
    "    #                                       ^\n",
    "    #                                       |\n",
    "    #       shouldn't this offet depend on the solar elevation angle?\n",
    "    azimuth = ee.Number(sunAzimuth).multiply(math.pi).divide(180.0).add(ee.Number(0.5).multiply(math.pi))\n",
    "    x = azimuth.cos().multiply(10.0).round()\n",
    "    y = azimuth.sin().multiply(10.0).round()\n",
    "    shadow = cloudMask.changeProj(cloudMask.projection(), cloudMask.projection().translate(x.multiply(ee.Number(offset)), y.multiply(ee.Number(offset))))\n",
    "    \n",
    "    return shadow"
   ]
  },
  {
   "cell_type": "code",
   "execution_count": 15,
   "metadata": {
    "collapsed": true
   },
   "outputs": [],
   "source": [
    "def cloudMaskS2 (image, SunAzimuth): \n",
    "    #                                                             is the multiplication of band 9 SQUARED on purpose?\n",
    "    #                                                                         |                             |\n",
    "    #                                                                         V                             V\n",
    "#     cld = image.select('B2').multiply(image.select('B3')).multiply(image.select('B9')).multiply(image.select('B9')).divide(1e11)\n",
    "#     cloud = cld.lt(210).focal_min(10) \n",
    "#     shadow = projectShadows(cloud, SunAzimuth, 6.5)   \n",
    "    \n",
    "    #  shouldn't use mask() to set a mask\n",
    "    #             |\n",
    "    #             V\n",
    "    #cldsh = image.mask().reduce('min').And(cloud).And(sh)\n",
    "    #return image.mask(cldsh)\n",
    "    \n",
    "    \n",
    "    \n",
    "    \n",
    "    \n",
    "    # let's use this test cloud mask for now\n",
    "    cloud = image.select('B2').gt(0.5)\n",
    "    shadow = projectShadows(cloud, SunAzimuth, 6.5) \n",
    "    cloudAndShadow = cloud.Or(shadow)  \n",
    "    return image.updateMask(cloudAndShadow.eq(0)).unmask()\n",
    "#                                                    ^\n",
    "#                                                    |\n",
    "#           this sets masked pixels to zero so that they show up in this display"
   ]
  },
  {
   "cell_type": "code",
   "execution_count": 16,
   "metadata": {
    "collapsed": false
   },
   "outputs": [],
   "source": [
    "# original image (top of atmosphere)\n",
    "# TOA = ee.Image(ic.sort('CLOUD_COVERAGE_ASSESSMENT', False).map(cloudMaskS2).mosaic()).divide(10000)\n",
    "#                 ^                                                                  ^\n",
    "#                 |                                                                  |\n",
    "#----------------- did you want to display the whole image collection in one go? ------------------------  \n",
    "\n",
    "\n",
    "# 1) same images\n",
    "TOA = ee.Image(ic.first()).divide(10000)\n",
    "BOA = ee.Image(SR)\n",
    "\n",
    "# when you divide the TOA by 10,000 earth engine will not preserve all the original metadata of the input image \n",
    "# (because it will often be really inefficent) this means you have to explicitly .set() it again if you need it \n",
    "# or save it into a new variable, e.g.\n",
    "SunAzimuth = ee.Image(ic.first()).get('MEAN_SOLAR_AZIMUTH_ANGLE')\n",
    "\n",
    "# 2) same cloud mask\n",
    "TOA_masked = cloudMaskS2(TOA, SunAzimuth)\n",
    "BOA_masked = cloudMaskS2(BOA, SunAzimuth)"
   ]
  },
  {
   "cell_type": "code",
   "execution_count": 17,
   "metadata": {
    "collapsed": false
   },
   "outputs": [
    {
     "data": {
      "text/html": [
       "<img src=\"https://earthengine.googleapis.com/api/thumb?thumbid=41cd1fe1f7962cc9d97f43d1f61f4d63&token=84479f13367784c72c0925c284603873\"/>"
      ],
      "text/plain": [
       "<IPython.core.display.Image object>"
      ]
     },
     "metadata": {},
     "output_type": "display_data"
    },
    {
     "data": {
      "text/html": [
       "<img src=\"https://earthengine.googleapis.com/api/thumb?thumbid=98f2b779a250c9c2b633f0cd3f779803&token=53f895cdb068e654aaa6d3ba27b0707c\"/>"
      ],
      "text/plain": [
       "<IPython.core.display.Image object>"
      ]
     },
     "metadata": {},
     "output_type": "display_data"
    }
   ],
   "source": [
    "from IPython.display import display, Image\n",
    "\n",
    "region = geom.buffer(10000).bounds().getInfo()['coordinates']\n",
    "\n",
    "\n",
    "before = Image(url=TOA_masked.select(['B4','B3','B2']).getThumbUrl({\n",
    "                'region':region,\n",
    "                'min':0,\n",
    "                'max':0.25,\n",
    "                'gamma':1.5\n",
    "                }))\n",
    "\n",
    "after = Image(url=BOA_masked.select(['B4','B3','B2']).getThumbUrl({\n",
    "                'region':region,\n",
    "                'min':0,\n",
    "                'max':0.25,\n",
    "                'gamma':1.5\n",
    "                }))\n",
    "\n",
    "display(before, after)"
   ]
  },
  {
   "cell_type": "code",
   "execution_count": null,
   "metadata": {
    "collapsed": true
   },
   "outputs": [],
   "source": []
  }
 ],
 "metadata": {
  "anaconda-cloud": {},
  "kernelspec": {
   "display_name": "Python 3",
   "language": "python",
   "name": "python3"
  },
  "language_info": {
   "codemirror_mode": {
    "name": "ipython",
    "version": 3
   },
   "file_extension": ".py",
   "mimetype": "text/x-python",
   "name": "python",
   "nbconvert_exporter": "python",
   "pygments_lexer": "ipython3",
   "version": "3.6.0"
  }
 },
 "nbformat": 4,
 "nbformat_minor": 1
}
