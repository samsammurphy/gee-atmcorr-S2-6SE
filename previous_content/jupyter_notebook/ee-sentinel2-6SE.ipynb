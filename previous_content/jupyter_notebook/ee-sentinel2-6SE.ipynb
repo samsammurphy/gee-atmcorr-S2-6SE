{
 "cells": [
  {
   "cell_type": "code",
   "execution_count": 1,
   "metadata": {
    "collapsed": true
   },
   "outputs": [],
   "source": [
    "import ee\n",
    "ee.Initialize()"
   ]
  },
  {
   "cell_type": "code",
   "execution_count": 2,
   "metadata": {},
   "outputs": [
    {
     "ename": "ModuleNotFoundError",
     "evalue": "No module named 'atmcorr_input'",
     "output_type": "error",
     "traceback": [
      "\u001b[0;31m---------------------------------------------------------------------------\u001b[0m",
      "\u001b[0;31mModuleNotFoundError\u001b[0m                       Traceback (most recent call last)",
      "\u001b[0;32m<ipython-input-2-b2793274f3f3>\u001b[0m in \u001b[0;36m<module>\u001b[0;34m()\u001b[0m\n\u001b[1;32m      3\u001b[0m \u001b[0msys\u001b[0m\u001b[0;34m.\u001b[0m\u001b[0mpath\u001b[0m\u001b[0;34m.\u001b[0m\u001b[0mappend\u001b[0m\u001b[0;34m(\u001b[0m\u001b[0mos\u001b[0m\u001b[0;34m.\u001b[0m\u001b[0mpath\u001b[0m\u001b[0;34m.\u001b[0m\u001b[0mjoin\u001b[0m\u001b[0;34m(\u001b[0m\u001b[0mos\u001b[0m\u001b[0;34m.\u001b[0m\u001b[0mpath\u001b[0m\u001b[0;34m.\u001b[0m\u001b[0mdirname\u001b[0m\u001b[0;34m(\u001b[0m\u001b[0mos\u001b[0m\u001b[0;34m.\u001b[0m\u001b[0mgetcwd\u001b[0m\u001b[0;34m(\u001b[0m\u001b[0;34m)\u001b[0m\u001b[0;34m)\u001b[0m\u001b[0;34m,\u001b[0m\u001b[0;34m'bin'\u001b[0m\u001b[0;34m)\u001b[0m\u001b[0;34m)\u001b[0m\u001b[0;34m\u001b[0m\u001b[0m\n\u001b[1;32m      4\u001b[0m \u001b[0;32mfrom\u001b[0m \u001b[0msixs_emulator_ee_sentinel2_batch\u001b[0m \u001b[0;32mimport\u001b[0m \u001b[0mSixS_emulator\u001b[0m\u001b[0;34m\u001b[0m\u001b[0m\n\u001b[0;32m----> 5\u001b[0;31m \u001b[0;32mfrom\u001b[0m \u001b[0matmcorr_input\u001b[0m \u001b[0;32mimport\u001b[0m \u001b[0mAtmcorr_input\u001b[0m\u001b[0;34m\u001b[0m\u001b[0m\n\u001b[0m\u001b[1;32m      6\u001b[0m \u001b[0;32mfrom\u001b[0m \u001b[0matmospheric_correction\u001b[0m \u001b[0;32mimport\u001b[0m \u001b[0matmospheric_correction\u001b[0m\u001b[0;34m\u001b[0m\u001b[0m\n\u001b[1;32m      7\u001b[0m \u001b[0;32mfrom\u001b[0m \u001b[0mradiance\u001b[0m \u001b[0;32mimport\u001b[0m \u001b[0mradiance_from_TOA\u001b[0m\u001b[0;34m\u001b[0m\u001b[0m\n",
      "\u001b[0;31mModuleNotFoundError\u001b[0m: No module named 'atmcorr_input'"
     ]
    }
   ],
   "source": [
    "import os\n",
    "import sys\n",
    "sys.path.append(os.path.join(os.path.dirname(os.getcwd()),'bin'))\n",
    "from sixs_emulator_ee_sentinel2_batch import SixS_emulator\n",
    "from atmcorr_input import Atmcorr_input\n",
    "from atmospheric_correction import atmospheric_correction\n",
    "from radiance import radiance_from_TOA\n",
    "from interpolated_LUTs import Interpolated_LUTs"
   ]
  },
  {
   "cell_type": "code",
   "execution_count": 3,
   "metadata": {
    "collapsed": true
   },
   "outputs": [],
   "source": [
    "# a place and a mission\n",
    "geom = ee.Geometry.Point(-157.816222, 21.297481)\n",
    "mission = 'COPERNICUS/S2'  "
   ]
  },
  {
   "cell_type": "code",
   "execution_count": 4,
   "metadata": {
    "collapsed": true
   },
   "outputs": [],
   "source": [
    "# 6S emulator\n",
    "se = SixS_emulator(mission)"
   ]
  },
  {
   "cell_type": "code",
   "execution_count": 5,
   "metadata": {
    "collapsed": true
   },
   "outputs": [],
   "source": [
    "# image collection\n",
    "ic = ee.ImageCollection(mission)\\\n",
    "    .filterBounds(geom)\\\n",
    "    .filterDate('2017-01-01','2017-02-01')\\\n",
    "    .filter(ee.Filter.lt('MEAN_SOLAR_ZENITH_ANGLE',75))"
   ]
  },
  {
   "cell_type": "code",
   "execution_count": 6,
   "metadata": {},
   "outputs": [],
   "source": [
    "# iLUTs instance\n",
    "iLUTs = Interpolated_LUTs('COPERNICUS/S2') # i.e. Sentinel2 "
   ]
  },
  {
   "cell_type": "code",
   "execution_count": 7,
   "metadata": {},
   "outputs": [
    {
     "name": "stdout",
     "output_type": "stream",
     "text": [
      "Downloading look up table (LUT) zip file..\n",
      "Extracting zip file..\n",
      "Done: LUT files available locally\n"
     ]
    }
   ],
   "source": [
    "# if this is first time you might have to download the look up tables\n",
    "iLUTs.download_LUTs()"
   ]
  },
  {
   "cell_type": "code",
   "execution_count": 8,
   "metadata": {},
   "outputs": [
    {
     "name": "stdout",
     "output_type": "stream",
     "text": [
      "running n-dimensional interpolation may take a few minutes...\n",
      "iLUT file already exists (skipping interpolation): S2A_MSI_01.lut\n",
      "iLUT file already exists (skipping interpolation): S2A_MSI_02.lut\n",
      "iLUT file already exists (skipping interpolation): S2A_MSI_03.lut\n",
      "iLUT file already exists (skipping interpolation): S2A_MSI_04.lut\n",
      "iLUT file already exists (skipping interpolation): S2A_MSI_05.lut\n",
      "iLUT file already exists (skipping interpolation): S2A_MSI_06.lut\n",
      "iLUT file already exists (skipping interpolation): S2A_MSI_07.lut\n",
      "iLUT file already exists (skipping interpolation): S2A_MSI_08.lut\n",
      "iLUT file already exists (skipping interpolation): S2A_MSI_09.lut\n",
      "iLUT file already exists (skipping interpolation): S2A_MSI_10.lut\n",
      "iLUT file already exists (skipping interpolation): S2A_MSI_11.lut\n",
      "iLUT file already exists (skipping interpolation): S2A_MSI_12.lut\n",
      "iLUT file already exists (skipping interpolation): S2A_MSI_13.lut\n"
     ]
    }
   ],
   "source": [
    "# and run the interpolation\n",
    "iLUTs.interpolate_LUTs()"
   ]
  },
  {
   "cell_type": "markdown",
   "metadata": {},
   "source": [
    "If you are running this notebook in a docker container then you can save these interpolated look-up tables (and your Earth Engine authentication) for later using a [docker commit](https://github.com/samsammurphy/gee-atmcorr-S2-6SE/wiki/docker-commits). This will save them to memory so that you only have to do the set-up once."
   ]
  },
  {
   "cell_type": "code",
   "execution_count": 9,
   "metadata": {},
   "outputs": [],
   "source": [
    "# otherwise, you can just load iLUTs from file\n",
    "se.iLUTs = iLUTs.get()"
   ]
  },
  {
   "cell_type": "code",
   "execution_count": 10,
   "metadata": {},
   "outputs": [],
   "source": [
    "# extract atmcorr inputs as feature collection\n",
    "Atmcorr_input.geom = geom  # specify target location (would use image centroid otherwise)\n",
    "atmcorr_inputs = ic.map(Atmcorr_input.extractor).getInfo()\n",
    "features = atmcorr_inputs['features']"
   ]
  },
  {
   "cell_type": "code",
   "execution_count": 11,
   "metadata": {},
   "outputs": [],
   "source": [
    "# atmospherically correct image collection\n",
    "ic_atmospherically_corrected = []\n",
    "\n",
    "for feature in features:\n",
    "\n",
    "    # at-sensor radiance \n",
    "    toa = ee.Image(mission+'/'+feature['properties']['imgID'])\n",
    "    rad = radiance_from_TOA(toa, feature)\n",
    "\n",
    "    # 6S emulator\n",
    "    cc = se.run(feature['properties']['atmcorr_inputs'])\n",
    "\n",
    "    # atmospheric correction\n",
    "    SR = atmospheric_correction(rad, cc)\n",
    "    ic_atmospherically_corrected.append(SR)"
   ]
  },
  {
   "cell_type": "code",
   "execution_count": 12,
   "metadata": {
    "collapsed": true
   },
   "outputs": [],
   "source": [
    "# Earth Engine image collection\n",
    "ic_atmospherically_corrected = ee.ImageCollection(ic_atmospherically_corrected)"
   ]
  },
  {
   "cell_type": "code",
   "execution_count": 13,
   "metadata": {},
   "outputs": [
    {
     "name": "stdout",
     "output_type": "stream",
     "text": [
      "{'B1': 0.15776946933165464, 'B10': 1.0800332271125255, 'B11': 0.26621009885365277, 'B12': 0.1998808958940913, 'B2': 0.23538158062086803, 'B3': 0.25703131294111686, 'B4': 0.28050916213457583, 'B5': 0.28684050502120506, 'B6': 0.32420061980635617, 'B7': 0.32387646618908117, 'B8': 0.3293928233008832, 'B8A': 0.32055806565533307, 'B9': 0.44896412979808153}\n"
     ]
    }
   ],
   "source": [
    "# test\n",
    "SR = ee.Image(ic_atmospherically_corrected.first())\n",
    "print(SR.reduceRegion(ee.Reducer.mean(),geom).getInfo())"
   ]
  },
  {
   "cell_type": "code",
   "execution_count": 14,
   "metadata": {},
   "outputs": [
    {
     "data": {
      "text/html": [
       "<img src=\"https://earthengine.googleapis.com/api/thumb?thumbid=215d6f8b3f801eeaa2e6a04d9750fe77&token=88433afa608ce48b1db51a01b920e628\"/>"
      ],
      "text/plain": [
       "<IPython.core.display.Image object>"
      ]
     },
     "metadata": {},
     "output_type": "display_data"
    },
    {
     "data": {
      "text/html": [
       "<img src=\"https://earthengine.googleapis.com/api/thumb?thumbid=13173a0d27b1093440441414207aa762&token=4716eac130dea519ea37e162be09a5a1\"/>"
      ],
      "text/plain": [
       "<IPython.core.display.Image object>"
      ]
     },
     "metadata": {},
     "output_type": "display_data"
    }
   ],
   "source": [
    "# original image (top of atmosphere)\n",
    "TOA = ee.Image(ic.first()).divide(10000)\n",
    "\n",
    "# surface reflectance (bottom of atmosphere)\n",
    "SR = ee.Image(ic_atmospherically_corrected.first())\n",
    "\n",
    "from IPython.display import display, Image\n",
    "\n",
    "region = geom.buffer(5000).bounds().getInfo()['coordinates']\n",
    "\n",
    "before = Image(url=TOA.select(['B4','B3','B2']).getThumbUrl({\n",
    "                'region':region,\n",
    "                'min':0,\n",
    "                'max':0.25,\n",
    "                'gamma':1.5\n",
    "                }))\n",
    "\n",
    "after = Image(url=SR.select(['B4','B3','B2']).getThumbUrl({\n",
    "                'region':region,\n",
    "                'min':0,\n",
    "                'max':0.25,\n",
    "                'gamma':1.5\n",
    "                }))\n",
    "\n",
    "display(before, after)"
   ]
  }
 ],
 "metadata": {
  "anaconda-cloud": {},
  "kernelspec": {
   "display_name": "Python 3",
   "language": "python",
   "name": "python3"
  },
  "language_info": {
   "codemirror_mode": {
    "name": "ipython",
    "version": 3
   },
   "file_extension": ".py",
   "mimetype": "text/x-python",
   "name": "python",
   "nbconvert_exporter": "python",
   "pygments_lexer": "ipython3",
   "version": "3.6.2"
  }
 },
 "nbformat": 4,
 "nbformat_minor": 1
}
